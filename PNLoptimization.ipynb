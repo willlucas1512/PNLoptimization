{
 "cells": [
  {
   "cell_type": "markdown",
   "metadata": {},
   "source": [
    "## Trabalho Implementação PNL\n",
    "\n",
    "##### William Lucas e Nayara Gomes"
   ]
  },
  {
   "cell_type": "code",
   "execution_count": 4,
   "metadata": {},
   "outputs": [],
   "source": [
    "import math\n",
    "import time\n",
    "import random\n",
    "import numpy as np\n",
    "import matplotlib.pyplot as plt\n",
    "from mpl_toolkits.mplot3d import Axes3D\n",
    "from IPython.display import HTML, display"
   ]
  },
  {
   "cell_type": "markdown",
   "metadata": {},
   "source": [
    "Função e domínio:\n",
    "\n",
    "![Função](./funcao.png)"
   ]
  },
  {
   "cell_type": "code",
   "execution_count": 5,
   "metadata": {},
   "outputs": [],
   "source": [
    "def funcao(x1, x2):\n",
    "    return -1 * math.exp(-1*(x1**2 + x2**2))"
   ]
  },
  {
   "cell_type": "markdown",
   "metadata": {},
   "source": [
    "##### Funções auxiliares\n",
    "\n",
    "Para calcular o gradiente, utilizamos a definição abaixo:\n",
    "\n",
    "![Gradiente](./gradiente.png)"
   ]
  },
  {
   "cell_type": "code",
   "execution_count": 6,
   "metadata": {},
   "outputs": [],
   "source": [
    "def gradiente(x1, x2):\n",
    "    grad = np.array([[x1 * 2 * math.exp(-1 * (x1**2 + x2**2))], \n",
    "                   [x2 * 2 * math.exp(-1 * (x1**2 + x2**2))]])\n",
    "    return grad"
   ]
  },
  {
   "cell_type": "markdown",
   "metadata": {},
   "source": [
    "Para calcular a Matriz Hessiana, utilizamos a definição abaixo:\n",
    "\n",
    "![Hessiana](./hessiana.png)"
   ]
  },
  {
   "cell_type": "code",
   "execution_count": 7,
   "metadata": {},
   "outputs": [],
   "source": [
    "def matriz_hessiana(x1, x2):\n",
    "    hess = np.array([[(2 - 4 * x1**2) * math.exp(-1 * (x1**2 + x2**2)),  - 4 * x1 * x2 * math.exp(-1 * (x1**2 + x2**2))],\n",
    "                  [-4 * x1 * x2 * math.exp(-1 * (x1**2 + x2**2)), (2 - 4 * x2 **2) * math.exp(-1 * (x1**2 + x2**2)) ]])\n",
    "    return hess"
   ]
  },
  {
   "cell_type": "markdown",
   "metadata": {},
   "source": [
    "##### 1. Comportamento da função\n",
    "\n",
    "Contínua: Sim, pois não há valores para x1 e x2 fora do domínio.\n",
    "\n",
    "Mínimo local: A função não tem mínimo local.\n",
    "\n",
    "Mínimo global: f(0,0) = -1\n",
    "\n",
    "Assíntota: \n",
    "\n",
    "Convexidade: "
   ]
  }
 ],
 "metadata": {
  "interpreter": {
   "hash": "aee8b7b246df8f9039afb4144a1f6fd8d2ca17a180786b69acc140d282b71a49"
  },
  "kernelspec": {
   "display_name": "Python 3.8.3 64-bit",
   "language": "python",
   "name": "python3"
  },
  "language_info": {
   "codemirror_mode": {
    "name": "ipython",
    "version": 3
   },
   "file_extension": ".py",
   "mimetype": "text/x-python",
   "name": "python",
   "nbconvert_exporter": "python",
   "pygments_lexer": "ipython3",
   "version": "3.8.3"
  },
  "orig_nbformat": 4
 },
 "nbformat": 4,
 "nbformat_minor": 2
}
